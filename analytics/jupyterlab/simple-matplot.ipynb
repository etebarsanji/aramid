{
 "cells": [
  {
   "cell_type": "markdown",
   "metadata": {},
   "source": [
    "Install plotting library"
   ]
  },
  {
   "cell_type": "code",
   "execution_count": 7,
   "metadata": {},
   "outputs": [
    {
     "name": "stdout",
     "output_type": "stream",
     "text": [
      "Requirement already satisfied: matplotlib in ./env/lib/python3.8/site-packages (3.2.1)\n",
      "Requirement already satisfied: numpy>=1.11 in ./env/lib/python3.8/site-packages (from matplotlib) (1.18.2)\n",
      "Requirement already satisfied: kiwisolver>=1.0.1 in ./env/lib/python3.8/site-packages (from matplotlib) (1.1.0)\n",
      "Requirement already satisfied: pyparsing!=2.0.4,!=2.1.2,!=2.1.6,>=2.0.1 in ./env/lib/python3.8/site-packages (from matplotlib) (2.4.6)\n",
      "Requirement already satisfied: cycler>=0.10 in ./env/lib/python3.8/site-packages (from matplotlib) (0.10.0)\n",
      "Requirement already satisfied: python-dateutil>=2.1 in ./env/lib/python3.8/site-packages (from matplotlib) (2.8.1)\n",
      "Requirement already satisfied: setuptools in ./env/lib/python3.8/site-packages (from kiwisolver>=1.0.1->matplotlib) (46.1.3)\n",
      "Requirement already satisfied: six in ./env/lib/python3.8/site-packages (from cycler>=0.10->matplotlib) (1.14.0)\n"
     ]
    }
   ],
   "source": [
    "!pip3 install matplotlib"
   ]
  },
  {
   "cell_type": "markdown",
   "metadata": {},
   "source": [
    "Improt plotting library"
   ]
  },
  {
   "cell_type": "code",
   "execution_count": 3,
   "metadata": {},
   "outputs": [],
   "source": [
    "import matplotlib.pyplot as plt"
   ]
  },
  {
   "cell_type": "markdown",
   "metadata": {},
   "source": [
    "Draw a simple plot"
   ]
  },
  {
   "cell_type": "code",
   "execution_count": 4,
   "metadata": {},
   "outputs": [
    {
     "data": {
      "text/plain": [
       "[<matplotlib.lines.Line2D at 0x7ff6cbdb9df0>]"
      ]
     },
     "execution_count": 4,
     "metadata": {},
     "output_type": "execute_result"
    },
    {
     "data": {
      "image/png": "[encoded data removed]",
      "text/plain": [
       "<Figure size 432x288 with 1 Axes>"
      ]
     },
     "metadata": {
      "needs_background": "light"
     },
     "output_type": "display_data"
    }
   ],
   "source": [
    "plt.plot([1, 2, 10, 8, 20, 16, 17, 19, 2, 3.5, 5.5, 7, 100])"
   ]
  },
  {
   "cell_type": "code",
   "execution_count": 10,
   "metadata": {},
   "outputs": [
    {
     "name": "stdout",
     "output_type": "stream",
     "text": [
      "Requirement already satisfied: jupyter-client in ./env/lib/python3.8/site-packages (6.1.2)\n",
      "Requirement already satisfied: traitlets in ./env/lib/python3.8/site-packages (from jupyter-client) (4.3.3)\n",
      "Requirement already satisfied: jupyter-core>=4.6.0 in ./env/lib/python3.8/site-packages (from jupyter-client) (4.6.3)\n",
      "Requirement already satisfied: tornado>=4.1 in ./env/lib/python3.8/site-packages (from jupyter-client) (6.0.4)\n",
      "Requirement already satisfied: python-dateutil>=2.1 in ./env/lib/python3.8/site-packages (from jupyter-client) (2.8.1)\n",
      "Requirement already satisfied: pyzmq>=13 in ./env/lib/python3.8/site-packages (from jupyter-client) (19.0.0)\n",
      "Requirement already satisfied: six in ./env/lib/python3.8/site-packages (from traitlets->jupyter-client) (1.14.0)\n",
      "Requirement already satisfied: ipython-genutils in ./env/lib/python3.8/site-packages (from traitlets->jupyter-client) (0.2.0)\n",
      "Requirement already satisfied: decorator in ./env/lib/python3.8/site-packages (from traitlets->jupyter-client) (4.4.2)\n",
      "Note: you may need to restart the kernel to use updated packages.\n"
     ]
    }
   ],
   "source": [
    " pip install jupyter-client "
   ]
  },
  {
   "cell_type": "code",
   "execution_count": 1,
   "metadata": {},
   "outputs": [
    {
     "name": "stdout",
     "output_type": "stream",
     "text": [
      "Requirement already satisfied: jupyter-client in ./env/lib/python3.8/site-packages (6.1.2)\n",
      "Requirement already satisfied: traitlets in ./env/lib/python3.8/site-packages (from jupyter-client) (4.3.3)\n",
      "Requirement already satisfied: tornado>=4.1 in ./env/lib/python3.8/site-packages (from jupyter-client) (6.0.4)\n",
      "Requirement already satisfied: jupyter-core>=4.6.0 in ./env/lib/python3.8/site-packages (from jupyter-client) (4.6.3)\n",
      "Requirement already satisfied: pyzmq>=13 in ./env/lib/python3.8/site-packages (from jupyter-client) (19.0.0)\n",
      "Requirement already satisfied: python-dateutil>=2.1 in ./env/lib/python3.8/site-packages (from jupyter-client) (2.8.1)\n",
      "Requirement already satisfied: ipython-genutils in ./env/lib/python3.8/site-packages (from traitlets->jupyter-client) (0.2.0)\n",
      "Requirement already satisfied: six in ./env/lib/python3.8/site-packages (from traitlets->jupyter-client) (1.14.0)\n",
      "Requirement already satisfied: decorator in ./env/lib/python3.8/site-packages (from traitlets->jupyter-client) (4.4.2)\n"
     ]
    }
   ],
   "source": [
    "!pip install jupyter-client "
   ]
  },
  {
   "cell_type": "markdown",
   "metadata": {},
   "source": [
    "## Another sample"
   ]
  },
  {
   "cell_type": "code",
   "execution_count": 1,
   "metadata": {},
   "outputs": [
    {
     "name": "stdout",
     "output_type": "stream",
     "text": [
      "Collecting pandoc\n",
      "  Downloading pandoc-1.0.2.tar.gz (488 kB)\n",
      "\u001b[K     |████████████████████████████████| 488 kB 248 kB/s eta 0:00:01\n",
      "\u001b[?25hCollecting ply\n",
      "  Downloading ply-3.11-py2.py3-none-any.whl (49 kB)\n",
      "\u001b[K     |████████████████████████████████| 49 kB 237 kB/s eta 0:00:01\n",
      "\u001b[?25hBuilding wheels for collected packages: pandoc\n",
      "  Building wheel for pandoc (setup.py) ... \u001b[?25ldone\n",
      "\u001b[?25h  Created wheel for pandoc: filename=pandoc-1.0.2-py3-none-any.whl size=19991 sha256=27acd32f3eabb7a026716d0bb8b3ccdb20bb0d43a4878495f6628e6fe23b843c\n",
      "  Stored in directory: /home/javad/.cache/pip/wheels/a4/b9/34/3e82b9444401c2199d721240a388499a262d2e2ad37f6f3fa7\n",
      "Successfully built pandoc\n",
      "Installing collected packages: ply, pandoc\n",
      "Successfully installed pandoc-1.0.2 ply-3.11\n",
      "Note: you may need to restart the kernel to use updated packages.\n"
     ]
    }
   ],
   "source": [
    "pip install pandoc"
   ]
  },
  {
   "cell_type": "code",
   "execution_count": 2,
   "metadata": {},
   "outputs": [
    {
     "name": "stdout",
     "output_type": "stream",
     "text": [
      "Collecting pandas\n",
      "  Downloading pandas-1.0.3-cp38-cp38-manylinux1_x86_64.whl (10.0 MB)\n",
      "\u001b[K     |████████████████████████████████| 10.0 MB 6.2 MB/s eta 0:00:01\n",
      "\u001b[?25hRequirement already satisfied: python-dateutil>=2.6.1 in ./env/lib/python3.8/site-packages (from pandas) (2.8.1)\n",
      "Requirement already satisfied: numpy>=1.13.3 in ./env/lib/python3.8/site-packages (from pandas) (1.18.2)\n",
      "Collecting pytz>=2017.2\n",
      "  Using cached pytz-2019.3-py2.py3-none-any.whl (509 kB)\n",
      "Requirement already satisfied: six>=1.5 in ./env/lib/python3.8/site-packages (from python-dateutil>=2.6.1->pandas) (1.14.0)\n",
      "Installing collected packages: pytz, pandas\n",
      "Successfully installed pandas-1.0.3 pytz-2019.3\n",
      "Note: you may need to restart the kernel to use updated packages.\n"
     ]
    }
   ],
   "source": []
  }
 ],
 "metadata": {
  "kernelspec": {
   "display_name": "Python 3",
   "language": "python",
   "name": "python3"
  },
  "language_info": {
   "codemirror_mode": {
    "name": "ipython",
    "version": 3
   },
   "file_extension": ".py",
   "mimetype": "text/x-python",
   "name": "python",
   "nbconvert_exporter": "python",
   "pygments_lexer": "ipython3",
   "version": "3.8.2"
  }
 },
 "nbformat": 4,
 "nbformat_minor": 4
}
